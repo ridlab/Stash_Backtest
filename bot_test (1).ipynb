{
 "cells": [
  {
   "cell_type": "code",
   "execution_count": 7,
   "id": "f32cbc41-c803-470e-bafb-97e3f2786b7f",
   "metadata": {},
   "outputs": [],
   "source": [
    "import backtest_functions as btf\n",
    "import requests"
   ]
  },
  {
   "cell_type": "code",
   "execution_count": 8,
   "id": "5735f71b-35e8-483c-9679-c6422b833841",
   "metadata": {},
   "outputs": [],
   "source": [
    "server_time_endpoint = '/paper/api/bnf/servertime'\n",
    "get_last_tick_endpoint = \"/paper/api/bnf/backtest/last-tick\"\n",
    "place_order_endpoint = \"/paper/api/bnf/orders/place\"\n",
    "\n",
    "get_last_tick_headers = {\n",
    "   'X-BOT':'X-BOT',\n",
    "    'sign':'sign'\n",
    "}"
   ]
  },
  {
   "cell_type": "code",
   "execution_count": 10,
   "id": "95c127b4-d054-4bb4-b186-19f40e5c3d0b",
   "metadata": {},
   "outputs": [],
   "source": [
    "btf.start_backtest('BTCUSDT')"
   ]
  },
  {
   "cell_type": "code",
   "execution_count": 12,
   "id": "d1842a13-9ef4-4fbd-9d45-e97c738a3e57",
   "metadata": {},
   "outputs": [
    {
     "name": "stdout",
     "output_type": "stream",
     "text": [
      "Keyboard Interrupt detected. Exiting...\n"
     ]
    }
   ],
   "source": [
    "import numpy as np\n",
    "import time\n",
    "\n",
    "symbol = \"BTCUSDT\"\n",
    "timeframe = \"1h\"\n",
    "length = 6\n",
    "\n",
    "# Initialize variables\n",
    "position = 0.0\n",
    "orders = []\n",
    "tick_data = []\n",
    "last_tick_time = 0\n",
    "\n",
    "while True:\n",
    "    try:\n",
    "        tick = btf.get_request(get_last_tick_endpoint, headers=get_last_tick_headers)\n",
    "\n",
    "        if tick['timestamp'] - last_tick_time >= 55:\n",
    "            tick_data.append(tick)\n",
    "\n",
    "            if len(tick_data) > length:\n",
    "                tick_data = tick_data[-length:]\n",
    "\n",
    "        if len(tick_data) > length:\n",
    "            tick_data = tick_data[-length:]\n",
    "\n",
    "        closes = np.array([float(tick['ask']) for tick in tick_data])\n",
    "        ma = round(closes.mean())\n",
    "\n",
    "        upper_bound = round(ma * 1.0001, 4)\n",
    "        lower_bound = round(ma * 1, 4)\n",
    "\n",
    "        price = float(tick['ask'])\n",
    "        print(price)\n",
    "\n",
    "        if price <= round(lower_bound) and position == 0.0:\n",
    "            print('buy buy buy')\n",
    "            limitprice = str(closes[-1] * 1.01)\n",
    "            btf.place_order(\"BUY\", 1.1)\n",
    "\n",
    "            position = 1.0\n",
    "\n",
    "        elif price >= round(upper_bound) and position == 1.0:\n",
    "            print('sell sell sell')\n",
    "            limitprice = str(closes[-1] * 0.99)\n",
    "            btf.place_order(\"SELL\", 1)\n",
    "\n",
    "            position = 0.0\n",
    "\n",
    "        time.sleep(20)\n",
    "\n",
    "    except Exception as e:\n",
    "        print(f\"Error: {e}\")\n",
    "\n",
    "    except KeyboardInterrupt:\n",
    "        # Handle Keyboard Interrupt gracefully\n",
    "        print(\"Keyboard Interrupt detected. Exiting...\")\n",
    "\n",
    "        break\n",
    "\n",
    "for order in orders:\n",
    "    print(order)\n"
   ]
  },
  {
   "cell_type": "code",
   "execution_count": null,
   "id": "c8d9db12-3879-4bad-91af-fd31a6f89138",
   "metadata": {},
   "outputs": [],
   "source": [
    "btf.stop_backtest()"
   ]
  }
 ],
 "metadata": {
  "kernelspec": {
   "display_name": "Python 3 (ipykernel)",
   "language": "python",
   "name": "python3"
  },
  "language_info": {
   "codemirror_mode": {
    "name": "ipython",
    "version": 3
   },
   "file_extension": ".py",
   "mimetype": "text/x-python",
   "name": "python",
   "nbconvert_exporter": "python",
   "pygments_lexer": "ipython3",
   "version": "3.9.7"
  }
 },
 "nbformat": 4,
 "nbformat_minor": 5
}
