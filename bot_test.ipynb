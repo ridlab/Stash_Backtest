{
 "cells": [
  {
   "cell_type": "code",
   "execution_count": 1,
   "id": "f32cbc41-c803-470e-bafb-97e3f2786b7f",
   "metadata": {},
   "outputs": [],
   "source": [
    "import backtest_functions as btf\n",
    "import requests"
   ]
  },
  {
   "cell_type": "code",
   "execution_count": 2,
   "id": "5735f71b-35e8-483c-9679-c6422b833841",
   "metadata": {},
   "outputs": [],
   "source": [
    "server_time_endpoint = '/paper/api/bnf/servertime'\n",
    "get_last_tick_endpoint = \"/paper/api/bnf/backtest/last-tick\"\n",
    "place_order_endpoint = \"/paper/api/bnf/orders/place\"\n",
    "\n",
    "get_last_tick_headers = {\n",
    "   'X-BOT':'X-BOT',\n",
    "    'sign':'sign'\n",
    "}"
   ]
  },
  {
   "cell_type": "code",
   "execution_count": null,
   "id": "95c127b4-d054-4bb4-b186-19f40e5c3d0b",
   "metadata": {},
   "outputs": [],
   "source": [
    "btf.start_backtest('BTCUSDT')"
   ]
  },
  {
   "cell_type": "code",
   "execution_count": 5,
   "id": "d1842a13-9ef4-4fbd-9d45-e97c738a3e57",
   "metadata": {},
   "outputs": [
    {
     "name": "stdout",
     "output_type": "stream",
     "text": [
      "44917.28\n",
      "44845.38\n",
      "buy buy buy\n",
      "{'clientOrderId': None, 'orderId': '1460a940', 'createdTs': '2022-04-06T13:33:01.705Z'}\n",
      "None\n",
      "44784.58\n",
      "44644.06\n",
      "44288.28\n",
      "44274.08\n",
      "44115.65\n",
      "43978.28\n",
      "44110.28\n",
      "44132.1\n",
      "44372.13\n",
      "sell sell sell\n",
      "{'clientOrderId': None, 'orderId': '21acd533', 'createdTs': '2022-04-06T14:34:23.919Z'}\n",
      "None\n",
      "44315.98\n",
      "44327.21\n",
      "44310.48\n",
      "44161.78\n",
      "buy buy buy\n",
      "{'clientOrderId': None, 'orderId': '477a248f', 'createdTs': '2022-04-06T15:07:26.615Z'}\n",
      "None\n",
      "44130.02\n",
      "43948.14\n",
      "43932.19\n",
      "44010.67\n",
      "44110.0\n",
      "sell sell sell\n",
      "{'clientOrderId': None, 'orderId': 'dc3a555e', 'createdTs': '2022-04-06T15:43:55.501Z'}\n",
      "None\n",
      "44195.68\n",
      "44167.28\n",
      "44220.07\n",
      "44023.88\n",
      "buy buy buy\n",
      "{'clientOrderId': None, 'orderId': '3129ba65', 'createdTs': '2022-04-06T16:17:45.605Z'}\n",
      "None\n",
      "43894.47\n",
      "43839.85\n"
     ]
    },
    {
     "ename": "KeyboardInterrupt",
     "evalue": "",
     "output_type": "error",
     "traceback": [
      "\u001b[0;31m---------------------------------------------------------------------------\u001b[0m",
      "\u001b[0;31mKeyboardInterrupt\u001b[0m                         Traceback (most recent call last)",
      "\u001b[0;32m/var/folders/py/x9xj9vfj3yj5q2zccb_r1gwc0000gn/T/ipykernel_88982/4075083512.py\u001b[0m in \u001b[0;36m<module>\u001b[0;34m\u001b[0m\n\u001b[1;32m     59\u001b[0m             \u001b[0mposition\u001b[0m \u001b[0;34m=\u001b[0m \u001b[0;36m0.0\u001b[0m\u001b[0;34m\u001b[0m\u001b[0;34m\u001b[0m\u001b[0m\n\u001b[1;32m     60\u001b[0m \u001b[0;34m\u001b[0m\u001b[0m\n\u001b[0;32m---> 61\u001b[0;31m         \u001b[0mtime\u001b[0m\u001b[0;34m.\u001b[0m\u001b[0msleep\u001b[0m\u001b[0;34m(\u001b[0m\u001b[0;36m20\u001b[0m\u001b[0;34m)\u001b[0m\u001b[0;34m\u001b[0m\u001b[0;34m\u001b[0m\u001b[0m\n\u001b[0m\u001b[1;32m     62\u001b[0m \u001b[0;34m\u001b[0m\u001b[0m\n\u001b[1;32m     63\u001b[0m     \u001b[0;32mexcept\u001b[0m \u001b[0mException\u001b[0m \u001b[0;32mas\u001b[0m \u001b[0me\u001b[0m\u001b[0;34m:\u001b[0m\u001b[0;34m\u001b[0m\u001b[0;34m\u001b[0m\u001b[0m\n",
      "\u001b[0;31mKeyboardInterrupt\u001b[0m: "
     ]
    }
   ],
   "source": [
    "import numpy as np\n",
    "import time\n",
    "\n",
    "\n",
    "symbol = \"BTCUSDT\"\n",
    "timeframe = \"1h\"  \n",
    "length = 6\n",
    "\n",
    "\n",
    "\n",
    "# Initialize variables\n",
    "position = 0.0\n",
    "orders = []\n",
    "tick_data = []  \n",
    "last_tick_time = 0 \n",
    "\n",
    "while True:\n",
    "    try:\n",
    "        tick = btf.get_request(get_last_tick_endpoint,headers=get_last_tick_headers)\n",
    "\n",
    "   \n",
    "        if tick['timestamp'] - last_tick_time >= 55:\n",
    "            tick_data.append(tick)\n",
    "            \n",
    "            if len(tick_data) > length:\n",
    "                tick_data = tick_data[-length:]\n",
    "\n",
    "        \n",
    "        if len(tick_data) > length:\n",
    "            tick_data = tick_data[-length:]\n",
    "            \n",
    "\n",
    "\n",
    "        closes = np.array([float(tick['ask']) for tick in tick_data])\n",
    "        ma = round(closes.mean())\n",
    "\n",
    "\n",
    "        upper_bound = round(ma * 1.0001, 4)\n",
    "        lower_bound = round(ma * 1, 4)\n",
    "\n",
    "  \n",
    "        price = float(tick['ask'])\n",
    "        print(price)\n",
    "\n",
    "        \n",
    "        if price <= round(lower_bound) and position == 0.0:\n",
    "            print('buy buy buy')\n",
    "            limitprice = str(closes[-1] * 1.01)\n",
    "            btf.place_order(\"BUY\",1.1)\n",
    " \n",
    "            position = 1.0\n",
    "\n",
    "       \n",
    "        elif price >= round(upper_bound) and position == 1.0:\n",
    "            print('sell sell sell')\n",
    "            limitprice = str(closes[-1] * 0.99)\n",
    "            btf.place_order(\"SELL\",1)\n",
    "\n",
    "            position = 0.0\n",
    "\n",
    "        time.sleep(20)\n",
    "\n",
    "    except Exception as e:\n",
    "        print(f\"Error: {e}\")\n",
    "\n",
    "   \n",
    "\n",
    "\n",
    "for order in orders:\n",
    "    print(order)"
   ]
  },
  {
   "cell_type": "code",
   "execution_count": 6,
   "id": "c8d9db12-3879-4bad-91af-fd31a6f89138",
   "metadata": {},
   "outputs": [
    {
     "name": "stdout",
     "output_type": "stream",
     "text": [
      "Backtest stopped successfully\n"
     ]
    },
    {
     "data": {
      "text/plain": [
       "True"
      ]
     },
     "execution_count": 6,
     "metadata": {},
     "output_type": "execute_result"
    }
   ],
   "source": [
    "btf.stop_backtest()"
   ]
  }
 ],
 "metadata": {
  "kernelspec": {
   "display_name": "Python 3 (ipykernel)",
   "language": "python",
   "name": "python3"
  },
  "language_info": {
   "codemirror_mode": {
    "name": "ipython",
    "version": 3
   },
   "file_extension": ".py",
   "mimetype": "text/x-python",
   "name": "python",
   "nbconvert_exporter": "python",
   "pygments_lexer": "ipython3",
   "version": "3.9.7"
  }
 },
 "nbformat": 4,
 "nbformat_minor": 5
}
